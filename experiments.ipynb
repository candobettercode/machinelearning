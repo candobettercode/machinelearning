{
 "cells": [
  {
   "cell_type": "code",
   "execution_count": 1,
   "id": "85885638",
   "metadata": {},
   "outputs": [],
   "source": [
    "from setuptools import find_packages,setup\n",
    "from typing import List"
   ]
  },
  {
   "cell_type": "code",
   "execution_count": 4,
   "id": "8a7bedf1",
   "metadata": {},
   "outputs": [],
   "source": [
    "HYPEN_E_DOT='-e .'"
   ]
  },
  {
   "cell_type": "code",
   "execution_count": 14,
   "id": "52e0c21e",
   "metadata": {},
   "outputs": [],
   "source": [
    "def get_requirements(file_path:str)->List[str]:\n",
    "    '''\n",
    "    this function will return the list of requirements\n",
    "    '''\n",
    "    requirements=[]\n",
    "    with open(file_path) as file_obj:\n",
    "        requirements=file_obj.readlines()\n",
    "        requirements=[req.replace(\"\\n\",\"\") for req in requirements]\n",
    "\n",
    "        if HYPEN_E_DOT in requirements:\n",
    "            requirements.remove(HYPEN_E_DOT)\n",
    "    \n",
    "    print(requirements)    \n",
    "    return requirements\n"
   ]
  },
  {
   "cell_type": "code",
   "execution_count": 10,
   "id": "464b7cfb",
   "metadata": {},
   "outputs": [],
   "source": [
    "install_requires=get_requirements('requirements.txt')"
   ]
  },
  {
   "cell_type": "code",
   "execution_count": 11,
   "id": "5a8d422a",
   "metadata": {},
   "outputs": [
    {
     "data": {
      "text/plain": [
       "[]"
      ]
     },
     "execution_count": 11,
     "metadata": {},
     "output_type": "execute_result"
    }
   ],
   "source": [
    "install_requires"
   ]
  },
  {
   "cell_type": "code",
   "execution_count": 15,
   "id": "0782e357",
   "metadata": {},
   "outputs": [],
   "source": [
    "with open('') as file_obj:\n",
    "        requirements=file_obj.readlines()"
   ]
  },
  {
   "cell_type": "code",
   "execution_count": 16,
   "id": "432c0fdd",
   "metadata": {},
   "outputs": [
    {
     "name": "stdout",
     "output_type": "stream",
     "text": [
      "[]\n"
     ]
    }
   ],
   "source": [
    "print(requirements)"
   ]
  },
  {
   "cell_type": "code",
   "execution_count": 17,
   "id": "c6a779cb",
   "metadata": {},
   "outputs": [],
   "source": [
    "with open('requirements.txt') as f:\n",
    "    lines = f.readlines()"
   ]
  },
  {
   "cell_type": "code",
   "execution_count": 19,
   "id": "493b7e46",
   "metadata": {},
   "outputs": [
    {
     "data": {
      "text/plain": [
       "[]"
      ]
     },
     "execution_count": 19,
     "metadata": {},
     "output_type": "execute_result"
    }
   ],
   "source": [
    "lines"
   ]
  },
  {
   "cell_type": "code",
   "execution_count": null,
   "id": "7956e0e5",
   "metadata": {},
   "outputs": [],
   "source": [
    "import sys\n",
    "from src.logger import logging\n",
    "\n",
    "def error_message_detail(error,error_detail:sys):\n",
    "    _,_,exc_tb=error_detail.exc_info()\n",
    "    file_name=exc_tb.tb_frame.f_code.co_filename\n",
    "    error_message=\"Error occured in python script name [{0}] line number [{1}] error message[{2}]\".format(\n",
    "     file_name,exc_tb.tb_lineno,str(error))\n",
    "\n",
    "    return error_message\n",
    "\n",
    "    \n",
    "\n",
    "class CustomException(Exception):\n",
    "    def __init__(self,error_message,error_detail:sys):\n",
    "        super().__init__(error_message)\n",
    "        self.error_message=error_message_detail(error_message,error_detail=error_detail)\n",
    "    \n",
    "    def __str__(self):\n",
    "        return self.error_message"
   ]
  },
  {
   "cell_type": "code",
   "execution_count": 3,
   "id": "1e3a3686",
   "metadata": {},
   "outputs": [],
   "source": [
    "import sys\n",
    "#from src.logger import logging\n"
   ]
  },
  {
   "cell_type": "code",
   "execution_count": 5,
   "id": "93994c2d",
   "metadata": {},
   "outputs": [],
   "source": [
    "from datetime import datetime\n",
    "\n",
    "LOG_FILE=f\"{datetime.now().strftime('%m_%d_%Y_%H_%M_%S')}.log\"\n"
   ]
  },
  {
   "cell_type": "code",
   "execution_count": 6,
   "id": "fcfce3b3",
   "metadata": {},
   "outputs": [],
   "source": [
    "LOG_FILE\n",
    "import os"
   ]
  },
  {
   "cell_type": "code",
   "execution_count": 25,
   "id": "4bc106f3",
   "metadata": {},
   "outputs": [
    {
     "name": "stdout",
     "output_type": "stream",
     "text": [
      "06\n"
     ]
    }
   ],
   "source": [
    "print(datetime.now().strftime('%m'))"
   ]
  },
  {
   "cell_type": "code",
   "execution_count": 28,
   "id": "0109c50c",
   "metadata": {},
   "outputs": [],
   "source": [
    "logs_path=os.path.join(os.getcwd(),\"logs\",LOG_FILE)"
   ]
  },
  {
   "cell_type": "code",
   "execution_count": 29,
   "id": "6bfff8ef",
   "metadata": {},
   "outputs": [
    {
     "data": {
      "text/plain": [
       "'E:\\\\Learning\\\\machinelearning\\\\logs\\\\06_26_2023_23_10_39.log'"
      ]
     },
     "execution_count": 29,
     "metadata": {},
     "output_type": "execute_result"
    }
   ],
   "source": [
    "logs_path"
   ]
  },
  {
   "cell_type": "code",
   "execution_count": 7,
   "id": "ca8e85b3",
   "metadata": {},
   "outputs": [],
   "source": [
    "logs_path=os.path.join(os.getcwd(),\"logs\",LOG_FILE)"
   ]
  },
  {
   "cell_type": "code",
   "execution_count": null,
   "id": "e703d80b",
   "metadata": {},
   "outputs": [],
   "source": []
  }
 ],
 "metadata": {
  "kernelspec": {
   "display_name": "Python 3 (ipykernel)",
   "language": "python",
   "name": "python3"
  },
  "language_info": {
   "codemirror_mode": {
    "name": "ipython",
    "version": 3
   },
   "file_extension": ".py",
   "mimetype": "text/x-python",
   "name": "python",
   "nbconvert_exporter": "python",
   "pygments_lexer": "ipython3",
   "version": "3.10.5"
  }
 },
 "nbformat": 4,
 "nbformat_minor": 5
}
